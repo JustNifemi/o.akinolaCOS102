{
 "cells": [
  {
   "cell_type": "code",
   "execution_count": 2,
   "id": "9c8d2177",
   "metadata": {},
   "outputs": [],
   "source": [
    "import tkinter as tk\n",
    "from tkinter import messagebox as msgbox\n",
    "\n",
    "# Handling button click event\n",
    "def button_click():\n",
    "    #print (\"Button clicked!\")\n",
    "\n",
    "    # Show an information message box\n",
    "    msgbox.showinfo(\"Info\", \"Welcome to COS 102 GUI App!\\n\")\n",
    "\n",
    "    #Ask for user confirmation\n",
    "    result = msgbox.askyesno(\"Confirmation\", \"Do you want to continue?\")\n",
    "\n",
    "# Create the main window\n",
    "root = tk.Tk()\n",
    "root.title(\"Home Page\")\n",
    "root.geometry(\"300x100\")\n",
    "\n",
    "#Add a label widget\n",
    "label = tk.Label(root, text = \"Hello Friend \\n\")\n",
    "label.pack()\n",
    "\n",
    "# Add a button widget\n",
    "button = tk.Button(root, text = \"Click Me!\", command = button_click)\n",
    "\n",
    "# Styling the button widget\n",
    "button.config(fg = \"red\", bg = \"yellow\")\n",
    "\n",
    "# Start the event loop\n",
    "root.mainloop()"
   ]
  },
  {
   "cell_type": "code",
   "execution_count": null,
   "id": "eb61e96a",
   "metadata": {},
   "outputs": [
    {
     "ename": "ModuleNotFoundError",
     "evalue": "No module named 'PIL'",
     "output_type": "error",
     "traceback": [
      "\u001b[31m---------------------------------------------------------------------------\u001b[39m",
      "\u001b[31mModuleNotFoundError\u001b[39m                       Traceback (most recent call last)",
      "\u001b[36mCell\u001b[39m\u001b[36m \u001b[39m\u001b[32mIn[7]\u001b[39m\u001b[32m, line 5\u001b[39m\n\u001b[32m      2\u001b[39m \u001b[38;5;28;01mfrom\u001b[39;00m\u001b[38;5;250m \u001b[39m\u001b[34;01mtkinter\u001b[39;00m\u001b[38;5;250m \u001b[39m\u001b[38;5;28;01mimport\u001b[39;00m messagebox\n\u001b[32m      4\u001b[39m \u001b[38;5;28;01mfrom\u001b[39;00m\u001b[38;5;250m \u001b[39m\u001b[34;01mDemos\u001b[39;00m\u001b[34;01m.\u001b[39;00m\u001b[34;01mwin32ts_logoff_disconnected\u001b[39;00m\u001b[38;5;250m \u001b[39m\u001b[38;5;28;01mimport\u001b[39;00m username\n\u001b[32m----> \u001b[39m\u001b[32m5\u001b[39m \u001b[38;5;28;01mfrom\u001b[39;00m\u001b[38;5;250m \u001b[39m\u001b[34;01mPIL\u001b[39;00m\u001b[38;5;250m \u001b[39m\u001b[38;5;28;01mimport\u001b[39;00m Image, ImageTk\n\u001b[32m      7\u001b[39m \u001b[38;5;28;01mdef\u001b[39;00m\u001b[38;5;250m \u001b[39m\u001b[34mwelcomeMessage\u001b[39m(username):\n\u001b[32m      8\u001b[39m     \u001b[38;5;66;03m#Create a Tkinter window\u001b[39;00m\n\u001b[32m      9\u001b[39m     window = tk.Toplevel(root)\n",
      "\u001b[31mModuleNotFoundError\u001b[39m: No module named 'PIL'"
     ]
    }
   ],
   "source": [
    "import tkinter as tk\n",
    "from tkinter import messagebox\n",
    "\n",
    "from Demos.win32ts_logoff_disconnected import username\n",
    "from PIL import Image, ImageTk\n",
    "\n",
    "def welcomeMessage(username):\n",
    "    #Create a Tkinter window\n",
    "    window = tk.Toplevel(root)\n",
    "    window.title(\"Admin Box\")\n",
    "    window.geometry(\"500x200\")\n",
    "\n",
    "    label_1 = tk.Label(window, text=f\"Welcome {username}\\n\")\n",
    "    label_1.pack()\n",
    "    label_2 = tk.Label(window, text = \"This is python GUI with Tkinter\")\n",
    "    label_2.pack()\n",
    "\n",
    "\n",
    "    # Run the tkinter loop\n",
    "    root.mainloop()\n",
    "\n",
    "def submit():\n",
    "    username = username_entry.get()\n",
    "    password = password_entry.get()\n",
    "\n",
    "    if username == \"Mary\" and password == \"cos102\":\n",
    "        welcomeMessage(username)\n",
    "    else:\n",
    "        messagebox.showerror(\"Login\", \"Invalid username or password\")\n",
    "\n",
    "# Create main window\n",
    "root = tk.Tk()\n",
    "root.title(\"Login Form\")\n",
    "root.geometry(\"500x200\")\n",
    "\n",
    "\n",
    "#Create username label and entry\n",
    "username_label = tk.Label(root, text=\"Username:\")\n",
    "username_label.pack()\n",
    "username_entry = tk.Entry(root)\n",
    "username_entry.pack()\n",
    "\n",
    "#Create password label and entry\n",
    "password_label = tk.Label(root, text = \"Password:\")\n",
    "password_label.pack()\n",
    "password_entry = tk.Entry(root, show = \"*\")\n",
    "password_entry.pack()\n",
    "\n",
    "#Create submit button\n",
    "submit_button = tk.Button(root, text = \"Submit\", command=submit)\n",
    "submit_button.pack()\n",
    "\n",
    "#Run the main event loop\n",
    "root.mainloop()"
   ]
  }
 ],
 "metadata": {
  "kernelspec": {
   "display_name": "Python 3",
   "language": "python",
   "name": "python3"
  },
  "language_info": {
   "codemirror_mode": {
    "name": "ipython",
    "version": 3
   },
   "file_extension": ".py",
   "mimetype": "text/x-python",
   "name": "python",
   "nbconvert_exporter": "python",
   "pygments_lexer": "ipython3",
   "version": "3.12.6"
  }
 },
 "nbformat": 4,
 "nbformat_minor": 5
}
